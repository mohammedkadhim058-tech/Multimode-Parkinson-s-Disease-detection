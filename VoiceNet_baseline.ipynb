{
 "cells": [
  {
   "cell_type": "markdown",
   "id": "24b88b69",
   "metadata": {},
   "source": [
    "# VoiceNet — PD vs Healthy (Baseline)"
   ]
  },
  {
   "cell_type": "markdown",
   "id": "38f8c77a",
   "metadata": {},
   "source": [
    "\n",
    "Train a strong baseline for PD vs Healthy using your **voice** feature CSV (e.g., `pd_speech_features.csv`) or a path-based manifest.\n",
    "- Groups by `subject_id` to avoid leakage.\n",
    "- Uses `StandardScaler` + `LogisticRegression` (elastic net) wrapped in `CalibratedClassifierCV` for well-calibrated probabilities.\n",
    "- Saves a reusable **sklearn Pipeline** and predictions.\n"
   ]
  },
  {
   "cell_type": "markdown",
   "id": "dd8a88bd",
   "metadata": {},
   "source": [
    "## Install/verify dependencies"
   ]
  },
  {
   "cell_type": "code",
   "execution_count": 5,
   "id": "afb86181",
   "metadata": {},
   "outputs": [
    {
     "name": "stdout",
     "output_type": "stream",
     "text": [
      "pandas OK\n",
      "numpy OK\n",
      "sklearn OK\n",
      "joblib OK\n",
      "matplotlib OK\n"
     ]
    }
   ],
   "source": [
    "\n",
    "import sys, subprocess, importlib\n",
    "\n",
    "def ensure(pkg, import_name=None):\n",
    "    try:\n",
    "        importlib.import_module(import_name or pkg)\n",
    "        print(f\"{import_name or pkg} OK\")\n",
    "    except ImportError:\n",
    "        print(f\"Installing {pkg}...\")\n",
    "        subprocess.check_call([sys.executable, \"-m\", \"pip\", \"install\", pkg])\n",
    "        importlib.import_module(import_name or pkg)\n",
    "        print(f\"{import_name or pkg} installed\")\n",
    "\n",
    "ensure(\"pandas\")\n",
    "ensure(\"numpy\")\n",
    "ensure(\"scikit-learn\", import_name=\"sklearn\")\n",
    "ensure(\"joblib\")\n",
    "ensure(\"matplotlib\")\n"
   ]
  },
  {
   "cell_type": "markdown",
   "id": "c6db5ad9",
   "metadata": {},
   "source": [
    "## Config"
   ]
  },
  {
   "cell_type": "code",
   "execution_count": 6,
   "id": "6069e656",
   "metadata": {},
   "outputs": [
    {
     "name": "stdout",
     "output_type": "stream",
     "text": [
      "Manifests: C:\\Users\\muham\\_Projects\\PD New\\manifests\n",
      "Exists: True True\n",
      "Models -> C:\\Users\\muham\\_Projects\\PD New\\manifests\\models\n"
     ]
    }
   ],
   "source": [
    "\n",
    "from pathlib import Path\n",
    "\n",
    "# Set to your manifests folder (created by the previous notebook)\n",
    "MANIFESTS = Path(r\"C:\\Users\\muham\\_Projects\\PD New\\manifests\")\n",
    "\n",
    "VOICE_MANIFEST = MANIFESTS / \"voice_manifest_splits.csv\"   # created earlier\n",
    "VOICE_FEATURES = MANIFESTS / \"voice_features.csv\"          # if using feature-only CSV\n",
    "OUT_DIR = MANIFESTS / \"models\"\n",
    "OUT_DIR.mkdir(exist_ok=True, parents=True)\n",
    "\n",
    "print(\"Manifests:\", MANIFESTS)\n",
    "print(\"Exists:\", VOICE_MANIFEST.exists(), VOICE_FEATURES.exists())\n",
    "print(\"Models ->\", OUT_DIR)\n"
   ]
  },
  {
   "cell_type": "markdown",
   "id": "0657a434",
   "metadata": {},
   "source": [
    "## Load data"
   ]
  },
  {
   "cell_type": "code",
   "execution_count": 7,
   "id": "7b0ff698",
   "metadata": {},
   "outputs": [
    {
     "name": "stdout",
     "output_type": "stream",
     "text": [
      "  dataset          path  subject_id  label split2\n",
      "0   voice  features://0           0      1  train\n",
      "1   voice  features://0           0      1  train\n",
      "2   voice  features://0           0      1  train\n",
      "Rows after split filter: 1809\n",
      "           path  label  subject_id split2\n",
      "0  features://0      1           0  train\n",
      "1  features://0      1           0  train\n",
      "2  features://0      1           0  train\n"
     ]
    }
   ],
   "source": [
    "\n",
    "import pandas as pd\n",
    "import numpy as np\n",
    "\n",
    "vm = pd.read_csv(VOICE_MANIFEST)\n",
    "print(vm.head(3))\n",
    "\n",
    "# If synthetic feature paths (features://...), join with the full feature table\n",
    "if (vm[\"path\"].astype(str).str.startswith(\"features://\").any()) and VOICE_FEATURES.exists():\n",
    "    vf = pd.read_csv(VOICE_FEATURES)\n",
    "    # try to find the linking key\n",
    "    lower = {c.lower():c for c in vf.columns}\n",
    "    key = None\n",
    "    for cand in [\"subject_id\",\"subject\",\"id\",\"name\",\"filename\"]:\n",
    "        if cand in lower:\n",
    "            key = lower[cand]\n",
    "            break\n",
    "    if key is None:\n",
    "        # fallback: row index mapping (assumes 'features://row_<i>')\n",
    "        vm[\"_rowidx\"] = vm[\"path\"].str.extract(r\"features://row_(\\\\d+)\", expand=False).astype(float)\n",
    "        vf[\"_rowidx\"] = np.arange(len(vf), dtype=float)\n",
    "        data = vm.merge(vf, on=\"_rowidx\", how=\"left\", suffixes=(\"\", \"\"))\n",
    "    else:\n",
    "        # long-join on key by normalizing to string\n",
    "        vm[\"_k\"] = vm[\"path\"].str.replace(\"features://\", \"\", regex=False).astype(str)\n",
    "        vf[\"_k\"] = vf[key].astype(str)\n",
    "        data = vm.merge(vf, on=\"_k\", how=\"left\", suffixes=(\"\", \"\"))\n",
    "else:\n",
    "    data = vm.copy()\n",
    "\n",
    "# Keep only train/val (ignore 'test' in this notebook)\n",
    "data = data[data[\"split2\"].isin([\"train\",\"val\"])].copy()\n",
    "print(\"Rows after split filter:\", len(data))\n",
    "print(data[[\"path\",\"label\",\"subject_id\",\"split2\"]].head(3))\n"
   ]
  },
  {
   "cell_type": "markdown",
   "id": "9f2cffec",
   "metadata": {},
   "source": [
    "## Build features (numeric-only)"
   ]
  },
  {
   "cell_type": "code",
   "execution_count": 9,
   "id": "bb39ad53",
   "metadata": {},
   "outputs": [
    {
     "name": "stdout",
     "output_type": "stream",
     "text": [
      "Feature dims: (1809, 755)\n",
      "Example feature names: ['id', 'gender', 'PPE', 'DFA', 'RPDE', 'numPulses', 'numPeriodsPulses', 'meanPeriodPulses', 'stdDevPeriodPulses', 'locPctJitter']\n"
     ]
    }
   ],
   "source": [
    "# Select numeric columns as features (excluding target/ids)\n",
    "import pandas as pd\n",
    "import numpy as np\n",
    "\n",
    "y = data[\"label\"].astype(int).to_numpy()\n",
    "\n",
    "# Group by subject_id if present; otherwise fall back to a stable per-row key (path)\n",
    "if \"subject_id\" in data.columns and data[\"subject_id\"].notna().any():\n",
    "    g = data[\"subject_id\"].astype('string')\n",
    "    # Fill any missing subject_id with the sample's path so GroupKFold has a valid group\n",
    "    g = g.fillna(pd.Series(data[\"path\"].astype('string').values, index=data.index))\n",
    "else:\n",
    "    g = data[\"path\"].astype('string')\n",
    "groups = g.to_numpy()\n",
    "\n",
    "drop_cols = set([\"dataset\",\"path\",\"label\",\"subject_id\",\"split\",\"split2\",\"recording_id\",\"source\",\"_rowidx\",\"_k\"])\n",
    "num_cols = [c for c in data.columns if c not in drop_cols and np.issubdtype(data[c].dtype, np.number)]\n",
    "\n",
    "X = data[num_cols].replace([np.inf,-np.inf], np.nan)\n",
    "X = X.fillna(X.median(numeric_only=True))\n",
    "print(\"Feature dims:\", X.shape)\n",
    "print(\"Example feature names:\", num_cols[:10])\n"
   ]
  },
  {
   "cell_type": "markdown",
   "id": "1217d7b0",
   "metadata": {},
   "source": [
    "## Model — Logistic (Elastic Net) + Calibration"
   ]
  },
  {
   "cell_type": "code",
   "execution_count": 10,
   "id": "78419939",
   "metadata": {},
   "outputs": [
    {
     "name": "stderr",
     "output_type": "stream",
     "text": [
      "C:\\Users\\muham\\anaconda3\\envs\\parkinsons_env\\lib\\site-packages\\sklearn\\linear_model\\_sag.py:348: ConvergenceWarning: The max_iter was reached which means the coef_ did not converge\n",
      "  warnings.warn(\n",
      "C:\\Users\\muham\\anaconda3\\envs\\parkinsons_env\\lib\\site-packages\\sklearn\\linear_model\\_sag.py:348: ConvergenceWarning: The max_iter was reached which means the coef_ did not converge\n",
      "  warnings.warn(\n",
      "C:\\Users\\muham\\anaconda3\\envs\\parkinsons_env\\lib\\site-packages\\sklearn\\linear_model\\_sag.py:348: ConvergenceWarning: The max_iter was reached which means the coef_ did not converge\n",
      "  warnings.warn(\n"
     ]
    },
    {
     "name": "stdout",
     "output_type": "stream",
     "text": [
      "Fold 1 AUC=1.000 ACC=0.984\n"
     ]
    },
    {
     "name": "stderr",
     "output_type": "stream",
     "text": [
      "C:\\Users\\muham\\anaconda3\\envs\\parkinsons_env\\lib\\site-packages\\sklearn\\linear_model\\_sag.py:348: ConvergenceWarning: The max_iter was reached which means the coef_ did not converge\n",
      "  warnings.warn(\n",
      "C:\\Users\\muham\\anaconda3\\envs\\parkinsons_env\\lib\\site-packages\\sklearn\\linear_model\\_sag.py:348: ConvergenceWarning: The max_iter was reached which means the coef_ did not converge\n",
      "  warnings.warn(\n",
      "C:\\Users\\muham\\anaconda3\\envs\\parkinsons_env\\lib\\site-packages\\sklearn\\linear_model\\_sag.py:348: ConvergenceWarning: The max_iter was reached which means the coef_ did not converge\n",
      "  warnings.warn(\n"
     ]
    },
    {
     "name": "stdout",
     "output_type": "stream",
     "text": [
      "Fold 2 AUC=1.000 ACC=0.992\n"
     ]
    },
    {
     "name": "stderr",
     "output_type": "stream",
     "text": [
      "C:\\Users\\muham\\anaconda3\\envs\\parkinsons_env\\lib\\site-packages\\sklearn\\linear_model\\_sag.py:348: ConvergenceWarning: The max_iter was reached which means the coef_ did not converge\n",
      "  warnings.warn(\n",
      "C:\\Users\\muham\\anaconda3\\envs\\parkinsons_env\\lib\\site-packages\\sklearn\\linear_model\\_sag.py:348: ConvergenceWarning: The max_iter was reached which means the coef_ did not converge\n",
      "  warnings.warn(\n",
      "C:\\Users\\muham\\anaconda3\\envs\\parkinsons_env\\lib\\site-packages\\sklearn\\linear_model\\_sag.py:348: ConvergenceWarning: The max_iter was reached which means the coef_ did not converge\n",
      "  warnings.warn(\n"
     ]
    },
    {
     "name": "stdout",
     "output_type": "stream",
     "text": [
      "Fold 3 AUC=1.000 ACC=1.000\n"
     ]
    },
    {
     "name": "stderr",
     "output_type": "stream",
     "text": [
      "C:\\Users\\muham\\anaconda3\\envs\\parkinsons_env\\lib\\site-packages\\sklearn\\linear_model\\_sag.py:348: ConvergenceWarning: The max_iter was reached which means the coef_ did not converge\n",
      "  warnings.warn(\n",
      "C:\\Users\\muham\\anaconda3\\envs\\parkinsons_env\\lib\\site-packages\\sklearn\\linear_model\\_sag.py:348: ConvergenceWarning: The max_iter was reached which means the coef_ did not converge\n",
      "  warnings.warn(\n",
      "C:\\Users\\muham\\anaconda3\\envs\\parkinsons_env\\lib\\site-packages\\sklearn\\linear_model\\_sag.py:348: ConvergenceWarning: The max_iter was reached which means the coef_ did not converge\n",
      "  warnings.warn(\n"
     ]
    },
    {
     "name": "stdout",
     "output_type": "stream",
     "text": [
      "Fold 4 AUC=1.000 ACC=1.000\n"
     ]
    },
    {
     "name": "stderr",
     "output_type": "stream",
     "text": [
      "C:\\Users\\muham\\anaconda3\\envs\\parkinsons_env\\lib\\site-packages\\sklearn\\linear_model\\_sag.py:348: ConvergenceWarning: The max_iter was reached which means the coef_ did not converge\n",
      "  warnings.warn(\n",
      "C:\\Users\\muham\\anaconda3\\envs\\parkinsons_env\\lib\\site-packages\\sklearn\\linear_model\\_sag.py:348: ConvergenceWarning: The max_iter was reached which means the coef_ did not converge\n",
      "  warnings.warn(\n",
      "C:\\Users\\muham\\anaconda3\\envs\\parkinsons_env\\lib\\site-packages\\sklearn\\linear_model\\_sag.py:348: ConvergenceWarning: The max_iter was reached which means the coef_ did not converge\n",
      "  warnings.warn(\n"
     ]
    },
    {
     "name": "stdout",
     "output_type": "stream",
     "text": [
      "Fold 5 AUC=0.999 ACC=0.983\n",
      "\\nCV AUC: 0.9998300186979432\n",
      "CV ACC: 0.9917081260364843\n",
      "Saved -> C:\\Users\\muham\\_Projects\\PD New\\manifests\\models\\voicenet_calibrated.joblib\n"
     ]
    },
    {
     "data": {
      "image/png": "[encoded data removed]",
      "text/plain": [
       "<Figure size 640x480 with 1 Axes>"
      ]
     },
     "metadata": {},
     "output_type": "display_data"
    }
   ],
   "source": [
    "\n",
    "from sklearn.preprocessing import StandardScaler\n",
    "from sklearn.linear_model import LogisticRegression\n",
    "from sklearn.calibration import CalibratedClassifierCV\n",
    "from sklearn.pipeline import Pipeline\n",
    "from sklearn.model_selection import GroupKFold\n",
    "from sklearn.metrics import roc_auc_score, accuracy_score, confusion_matrix, classification_report\n",
    "import joblib\n",
    "import matplotlib.pyplot as plt\n",
    "\n",
    "# Grouped CV\n",
    "gkf = GroupKFold(n_splits=5)\n",
    "probs, trues = [], []\n",
    "for fold, (tr, te) in enumerate(gkf.split(X, y, groups)):\n",
    "    pipe = Pipeline([\n",
    "        (\"scaler\", StandardScaler(with_mean=True, with_std=True)),\n",
    "        (\"clf\", LogisticRegression(max_iter=2000, penalty=\"elasticnet\", l1_ratio=0.3, C=1.0, solver=\"saga\"))\n",
    "    ])\n",
    "    # Fit base\n",
    "    pipe.fit(X.iloc[tr], y[tr])\n",
    "    # Calibrate on the same train via CV=3 (isotonic might overfit on small sets; use sigmoid)\n",
    "    calib = CalibratedClassifierCV(pipe, method=\"sigmoid\", cv=3)\n",
    "    calib.fit(X.iloc[tr], y[tr])\n",
    "\n",
    "    p = calib.predict_proba(X.iloc[te])[:,1]\n",
    "    probs.append(p); trues.append(y[te])\n",
    "    print(f\"Fold {fold+1} AUC={roc_auc_score(y[te], p):.3f} ACC={accuracy_score(y[te], p>0.5):.3f}\")\n",
    "\n",
    "probs = np.concatenate(probs); trues = np.concatenate(trues)\n",
    "print(\"\\\\nCV AUC:\", roc_auc_score(trues, probs))\n",
    "print(\"CV ACC:\", accuracy_score(trues, probs>0.5))\n",
    "\n",
    "# Fit final on all train+val\n",
    "final_pipe = Pipeline([\n",
    "    (\"scaler\", StandardScaler(with_mean=True, with_std=True)),\n",
    "    (\"clf\", LogisticRegression(max_iter=2000, penalty=\"elasticnet\", l1_ratio=0.3, C=1.0, solver=\"saga\"))\n",
    "])\n",
    "final_calib = CalibratedClassifierCV(final_pipe, method=\"sigmoid\", cv=5)\n",
    "final_calib.fit(X, y)\n",
    "\n",
    "joblib.dump({\"pipeline\": final_calib, \"features\": num_cols}, OUT_DIR/\"voicenet_calibrated.joblib\")\n",
    "print(\"Saved ->\", OUT_DIR/\"voicenet_calibrated.joblib\")\n",
    "\n",
    "# Reliability curve\n",
    "from sklearn.calibration import calibration_curve\n",
    "prob_true, prob_pred = calibration_curve(trues, probs, n_bins=10, strategy=\"quantile\")\n",
    "plt.figure()\n",
    "plt.plot(prob_pred, prob_true, marker=\"o\")\n",
    "plt.plot([0,1],[0,1], linestyle=\"--\")\n",
    "plt.xlabel(\"Predicted probability\")\n",
    "plt.ylabel(\"Empirical probability\")\n",
    "plt.title(\"VoiceNet Calibration (CV)\")\n",
    "plt.show()\n"
   ]
  },
  {
   "cell_type": "markdown",
   "id": "3f07433e",
   "metadata": {},
   "source": [
    "## Export per-row predictions (train/val)"
   ]
  },
  {
   "cell_type": "code",
   "execution_count": 11,
   "id": "cb2e103c",
   "metadata": {},
   "outputs": [
    {
     "name": "stdout",
     "output_type": "stream",
     "text": [
      "Saved -> C:\\Users\\muham\\_Projects\\PD New\\manifests\\models\\voicenet_cv_predictions.csv\n"
     ]
    }
   ],
   "source": [
    "\n",
    "pred_df = data[[\"path\",\"subject_id\",\"split2\"]].copy()\n",
    "pred_df[\"y_true\"] = y\n",
    "pred_df[\"p_voice\"] = probs  # CV predictions\n",
    "pred_df.to_csv(OUT_DIR/\"voicenet_cv_predictions.csv\", index=False)\n",
    "print(\"Saved ->\", OUT_DIR/\"voicenet_cv_predictions.csv\")\n"
   ]
  },
  {
   "cell_type": "code",
   "execution_count": null,
   "id": "7c39a559-1d11-4f8c-a9a1-9092a6b26e86",
   "metadata": {},
   "outputs": [],
   "source": []
  }
 ],
 "metadata": {
  "kernelspec": {
   "display_name": "Python (Parkinsons Env)",
   "language": "python",
   "name": "parkinsons_env"
  },
  "language_info": {
   "codemirror_mode": {
    "name": "ipython",
    "version": 3
   },
   "file_extension": ".py",
   "mimetype": "text/x-python",
   "name": "python",
   "nbconvert_exporter": "python",
   "pygments_lexer": "ipython3",
   "version": "3.10.18"
  }
 },
 "nbformat": 4,
 "nbformat_minor": 5
}
